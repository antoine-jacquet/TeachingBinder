{
 "cells": [
  {
   "cell_type": "markdown",
   "metadata": {},
   "source": [
    "# Microéconomie 5\n",
    "## TD2 : L’équilibre concurrentiel dans une économie d’échange\n",
    "\n",
    "### Exercice 1 : Préférences Cobb-Douglas\n",
    "\n",
    "Les dotations initiales sont $\\omega^A = (16, 4)$ et $\\omega^B = (3, 6)$. Les agents ont les fonctions d'utilité\n",
    "\n",
    "\\begin{aligned}\n",
    "    U^A(x^A) &= (x_1^A)^\\frac{1}{2} (x_2^A)^\\frac{1}{2} \\\\\n",
    "    U^B(x^B) &= \\frac{1}{2} \\ln(x_1^B) + \\frac{1}{4} \\ln(x_2^B).\n",
    "\\end{aligned}\n"
   ]
  },
  {
   "cell_type": "markdown",
   "metadata": {},
   "source": [
    "*Définissons ces données du problème, et représentons la carte d'indifférence à titre d'illustration.*"
   ]
  },
  {
   "cell_type": "code",
   "execution_count": 1,
   "metadata": {},
   "outputs": [
    {
     "ename": "SyntaxError",
     "evalue": "invalid syntax (449928456.py, line 5)",
     "output_type": "error",
     "traceback": [
      "\u001b[0;36m  File \u001b[0;32m\"/var/folders/mr/tm6xgtns4ml_y53nfs0y5fth0000gn/T/ipykernel_14358/449928456.py\"\u001b[0;36m, line \u001b[0;32m5\u001b[0m\n\u001b[0;31m    UA <- function(x1, x2) x1^(1/2) * x2^(1/2)         # fonction d'utilité de A\u001b[0m\n\u001b[0m                           ^\u001b[0m\n\u001b[0;31mSyntaxError\u001b[0m\u001b[0;31m:\u001b[0m invalid syntax\n"
     ]
    }
   ],
   "source": [
    "ωA <- c(16, 4)                                     # dotation initiale de A\n",
    "ωB <- c(3, 6)                                      # dotation initiale de B\n",
    "ω1 <- ωA[1] + ωB[1]                                # dotation totale en bien 1\n",
    "ω2 <- ωA[2] + ωB[2]                                # dotation totale en bien 2\n",
    "UA <- function(x1, x2) x1^(1/2) * x2^(1/2)         # fonction d'utilité de A\n",
    "UB <- function(x1, x2) 1/2*log(x1) + 1/4*log(x2)   # fonction d'utilité de B\n",
    "\n",
    "x1 <- seq(0, ω1, length=1000)                      # série de valeurs de x1 pour tracer les courbes\n",
    "\n",
    "indiffA <- function(U) U^2/x1\n",
    "indiffB <- function(U) exp(4*U)/x1^2\n",
    "\n",
    "niveauxA <- seq(UA(ω1/5, ω2/5), UA(4*ω1/5, 4*ω2/5), len = 4)\n",
    "niveauxB <- seq(UB(ω1/5, ω2/5), UB(4*ω1/5, 4*ω2/5), len = 4)\n",
    "\n",
    "plot(x = x1, y = x1, xlim = c(0, ω1), ylim = c(0, ω2),\n",
    "     type = \"n\", xlab = \"Bien 1\", ylab = \"Bien 2\", xaxs = \"i\", yaxs = \"i\")\n",
    "for (U in niveauxA) lines(x1, indiffA(U), col = \"dodgerblue\", ylim = c(0, ω2))\n",
    "for (U in niveauxB) lines(x1, rev(ω2 - indiffB(U)), col = \"darkorange\", ylim = c(0, ω2))"
   ]
  },
  {
   "cell_type": "markdown",
   "metadata": {},
   "source": [
    "#### Question 1.\n",
    "\n",
    "La fonction d'utilité de $A$ représente manifestement des *préférences Cobb-Douglas* : on sait désormais (depuis le TD1) qu'elles sont donc *convexes*.\n",
    "\n",
    "On remarque ensuite que l'utilité de $B$ s'obtient par une transformation strictement croissante (fonction logarithme $\\ln$) d'une utilité Cobb-Douglas, puisque\n",
    "\n",
    "\\begin{equation}\n",
    "    U^B(x^B) = \\ln \\left( (x_1^B)^\\frac{1}{2} (x_2^B)^\\frac{1}{4} \\right).\n",
    "\\end{equation}\n",
    "\n",
    "L'utilité de $B$ représente donc aussi des préférences Cobb-Douglas, et ainsi les préférences de $B$ sont aussi convexes."
   ]
  },
  {
   "cell_type": "markdown",
   "metadata": {},
   "source": [
    "Par définition, le taux marginal de substitution de l'agent $A$ exprimé en unités de bien 2 est\n",
    "\n",
    "\\begin{equation}\n",
    "    \\mathsf{TMS}^A = \\frac{\\partial U^A / \\partial x_1^A}{\\partial U^A / \\partial x_2^A} = \\frac{x_2^A}{x_1^A}.\n",
    "\\end{equation}\n",
    "\n",
    "De façon similaire, celui de $B$ est\n",
    "\n",
    "\\begin{equation}\n",
    "    \\mathsf{TMS}^B = \\frac{2 x_2^B}{x_1^A}.\n",
    "\\end{equation}"
   ]
  },
  {
   "cell_type": "markdown",
   "metadata": {},
   "source": [
    "#### Question 2.\n",
    "\n",
    "On cherche maintenant l'équilibre concurrentiel général (ou simplement équilibre général) de cette économie. Commençons par rappeler sa définition.\n",
    "\n",
    "**Définition.** Un *équilibre général* est un vecteur de prix $p = (p_1, p_2)$ et une allocation $x = (x^A, x^B)$ tels que :\n",
    "1. étant donné le vecteur de prix $p$, $x^k$ maximise l'utilité de l'agent $k$ sous sa contrainte budgétaire, et ce pour $k = A, B$,\n",
    "2. les quantités demandées sont égales aux quantités offertes pour chaque bien.\n",
    "\n",
    "Pour le calculer, on doit suivre deux étapes : d'abord trouver les **fonctions de demande de chaque agent**, puis écrire l'**équilibre d'un des deux marchés de bien** (le deuxième marché sera alors automatiquement équilibré d'après la loi de Walras)."
   ]
  },
  {
   "cell_type": "markdown",
   "metadata": {},
   "source": [
    "#### Question 3.\n",
    "\n",
    "Énonçons la loi de Walras et son corollaire important dans le cas à deux biens.\n",
    "\n",
    "**Loi de Walras.** La somme des demandes nettes pondérées par les prix est nulle :\n",
    "\\begin{equation}\n",
    "    p_1 d_1 + p_2 d_2 = 0.\n",
    "\\end{equation}\n",
    "\n",
    "Son corollaire est que si l'un des marchés est équilibré, alors l'autre l'est aussi : par exemple, $d_1 = 0$ implique $d_2 = 0$."
   ]
  },
  {
   "cell_type": "markdown",
   "metadata": {},
   "source": [
    "Passons maintenant au calcul de cet équilibre.\n",
    "\n",
    "**1. Fonctions de demande**\n",
    "\n",
    "Pour un vecteur de prix $p = (p_1, p_2)$ donné chaque agent forme ses demandes en maximisant son utilité sous sa contrainte de budget.  \n",
    "\n",
    "Pour $A$, cela veut dire (rappel de notation : $p \\cdot x^A = p_1 x_1^A + p_2 x_2^A$)\n",
    "\n",
    "\\begin{equation}\n",
    "    \\max_{x^A} \\; U^A(x^A) \\qquad \\text{s.c.} \\; p \\cdot x^A \\leq p \\cdot \\omega^A.\n",
    "\\end{equation}\n",
    "\n",
    "On forme le lagrangien de ce problème,\n",
    "\\begin{equation}\n",
    "    \\mathcal L(x^A, \\mu) = (x_1^A)^\\frac{1}{2} (x_2^A)^\\frac{1}{2} + \\mu(p_1 \\omega_1^A + p_2 \\omega_2^A - p_1 x_1^A - p_2 x_2^A)\n",
    "\\end{equation}\n",
    "\n",
    "duquel on dérive les conditions du premier ordre\n",
    "\\begin{aligned}\n",
    "    &\\frac{1}{2} (x_1^A)^{-\\frac{1}{2}} (x_2^A)^\\frac{1}{2} - \\mu p_1 = 0 \\\\\n",
    "    &\\frac{1}{2} (x_1^A)^\\frac{1}{2} (x_2^A)^{-\\frac{1}{2}} - \\mu p_2 = 0 \\\\\n",
    "    &p \\cdot x^A = p \\cdot \\omega^A.\n",
    "\\end{aligned}\n",
    "\n",
    "On en déduit\n",
    "\\begin{equation}\n",
    "    \\underbrace{\\frac{x_2^A}{x_1^A}}_{= \\mathsf{TMS}^A} = \\frac{p_1}{p_2} \\iff p_1 x_1^A = p_2 x_2^A\n",
    "\\end{equation}\n",
    "\n",
    "puis on utilise enfin la contrainte de budget pour écrire\n",
    "\\begin{equation}\n",
    "    p_1 x_1^A = p_2 x_2^A \\iff 2 p_1 x_1^A = p \\cdot \\omega^A \n",
    "\\end{equation}\n",
    "\n",
    "d'où les demandes brutes\n",
    "\\begin{equation}\n",
    "    \\boxed{ x_1^A(p) = \\frac{p \\cdot \\omega^A}{2 p_1} }\n",
    "    \\quad \\text{et} \\quad\n",
    "    \\boxed{ x_2^A(p) = \\frac{p \\cdot \\omega^A}{2 p_2} },\n",
    "\\end{equation}\n",
    "\n",
    "c'est-à-dire que $A$ dépense $\\frac{1}{2}$ de ses revenus en bien 1, et $\\frac{1}{2}$ en bien 2 (on reconnaît les coefficients en exposant dans la fonction d'utilité de $A$).\n",
    "\n",
    "Pour $B$ on suit le même raisonnement : on trouve\n",
    "\\begin{equation}\n",
    "    \\boxed{ x_1^B(p) = \\frac{2 p \\cdot \\omega^B}{3 p_1} }\n",
    "    \\quad \\text{et} \\quad\n",
    "    \\boxed{ x_2^B(p) = \\frac{p \\cdot \\omega^B}{3 p_2} }.\n",
    "\\end{equation}\n",
    "\n",
    "De même, $B$ dépense $\\frac{\\frac{1}{2}}{\\frac{1}{2} + \\frac{1}{4}} = \\frac{2}{3}$ de ses revenus en bien 1, et $\\frac{\\frac{1}{4}}{\\frac{1}{2} + \\frac{1}{4}} = \\frac{1}{3}$ de ses revenus en bien 2.\n",
    "\n",
    "\n",
    "**2. Équilibre du marché de bien 1**\n",
    "\n",
    "À l'équilibre concurrentiel le marché du bien 1 doit être équilibré, soit\n",
    "\n",
    "\\begin{equation}\n",
    "    x_1^A(p) + x_1^B(p) = \\omega_1^A + \\omega_1^B \\iff \\frac{p \\cdot \\omega^A}{2 p_1} + \\frac{2 p \\cdot \\omega^B}{3 p_1} = \\omega_1^A + \\omega_1^B \\iff \\boxed{\\frac{p_1}{p_2} = \\frac{3 \\omega_2^A + 4 \\omega_2^B}{3 \\omega_1^A + 2 \\omega_1^B}} \\overset{\\text{A.N.}}{=} \\frac{2}{3}.\n",
    "\\end{equation}\n",
    "\n",
    "On en déduit enfin les allocations d'équilibre en réinjectant ce rapport de prix dans les demandes des agents :\n",
    "\n",
    "\\begin{equation}\n",
    "    x_1^A = 11, \\quad x_2^A = \\frac{22}{3}, \\qquad x_1^B = 8, \\quad x_2^B = \\frac{8}{3}.\n",
    "\\end{equation}"
   ]
  },
  {
   "cell_type": "markdown",
   "metadata": {},
   "source": [
    "#### Question 4.\n",
    "\n",
    "Les quantités échangées s'obtiennent en comparant les allocations initiale et finale d'un des deux agents.\n",
    "\n",
    "Par exemple avec $A$ :\n",
    "\\begin{align}\n",
    "    x_1^A - \\omega_1^A &= 11 - 16 = -5 \\\\\n",
    "    x_2^A - \\omega_2^A &= \\frac{22}{3} - 4 = \\frac{10}{3},\n",
    "\\end{align}\n",
    "\n",
    "c'est-à-dire que $A$ a échangé 5 unités de son bien 1 contre $\\frac{10}{3}$ unités de bien 2 de $B$.\n",
    "\n",
    "Les quantités échangées sont donc 5 unités de bien 1 et $\\frac{10}{3}$ unités de bien 2."
   ]
  },
  {
   "cell_type": "markdown",
   "metadata": {},
   "source": [
    "#### Question 5.\n",
    "\n",
    "La courbe des optima internes peut s'obtenir directement en égalisant les taux marginaux de substitution des deux agents, et en prenant en compte les contraintes de ressources :\n",
    "\n",
    "\\begin{equation}\n",
    "    \\underbrace{\\frac{x_2^A}{x_1^A}}_{= \\mathsf{TMS^A}}\n",
    "    = \\underbrace{\\frac{2 x_2^B}{x_1^B}}_{= \\mathsf{TMS^B}}\n",
    "    = \\frac{2(\\omega_2 - x_2^A)}{\\omega_1 - x_1^A}\n",
    "\\end{equation}\n",
    "\n",
    "d'où l'équation\n",
    "\\begin{equation}\n",
    "    \\boxed{ x_2^A = \\frac{2 \\omega_2 x_1^A}{\\omega_1 + x_1^A} }\n",
    "    \\overset{\\text{A.N.}}{=} \\frac{20 x_1^A}{19 + x_1^A}.\n",
    "\\end{equation}"
   ]
  },
  {
   "cell_type": "markdown",
   "metadata": {},
   "source": [
    "#### Question 6.\n",
    "\n",
    "L'allocation initiale ne se situe pas sur la courbe des optima. En effet,\n",
    "\\begin{equation}\n",
    "    \\omega_2^A = 4 \\neq \\frac{64}{7} = \\frac{20 \\omega_1^A}{19 + \\omega_1^A}.\n",
    "\\end{equation}\n",
    "\n",
    "Ce n'est donc pas un optimum de Pareto."
   ]
  },
  {
   "cell_type": "markdown",
   "metadata": {},
   "source": [
    "#### Question 7.\n",
    "\n",
    "L'allocation d'équilibre est quant à elle bien un optimum de Pareto, puisque\n",
    "\\begin{equation}\n",
    "    x_2^A = \\frac{22}{3} = \\frac{20 \\times 11}{19 + 11} = \\frac{20 x_1^A}{19 + x_1^A}.\n",
    "\\end{equation}\n",
    "\n",
    "C'est la conséquence d'un résultat important, qui sera l'objet du TD suivant."
   ]
  },
  {
   "cell_type": "markdown",
   "metadata": {},
   "source": [
    "#### Question 8.\n",
    "\n",
    "Rappellons que le coeur de l'économie correspond à toutes les allocations qui sont à la fois Pareto-optimales, et qui sont préférées par les deux agents à l'allocation initiale.\n",
    "\n",
    "Nous avons vu à la question 7 que l'allocation d'équilibre est Pareto-optimale.\n",
    "\n",
    "Elle est bien sûr aussi préférée par les deux agents à l'allocation initiale (sinon il n'y aurait pas d'échange volontaire entre eux). On peut s'en assurer en vérifiant qu'à l'allocation d'équilibre $x = (x^A, x^B)$ décrite ci-dessus,\n",
    "\n",
    "\\begin{align}\n",
    "    U^A(x^A) &\\geq U^A(\\omega^A) \\\\\n",
    "    U^B(x^B) &\\geq U^B(\\omega^B).\n",
    "\\end{align}\n",
    "\n",
    "L'allocation d'équilibre fait donc bien partie du coeur de l'économie."
   ]
  },
  {
   "cell_type": "markdown",
   "metadata": {},
   "source": [
    "#### Question 9.\n",
    "\n",
    "Les prix d'équilibre concurrentiel constituent un taux d'échange entre les deux biens, qui permet notamment aux agents de sélectionner une des allocations parmi celles du coeur de l'économie."
   ]
  },
  {
   "cell_type": "markdown",
   "metadata": {},
   "source": [
    "*Représentons cet équilibre dans la boîte d'Edgeworth. L'allocation initiale est notée $I$, et celle d'équilibre $E$. Les courbes d'indifférence des agents sont en bleu et orange, et la courbe des optima en violet. La droite de budget à l'équilibre est en pointillés. On constate bien que l'allocation d'équilibre se situe dans le coeur de l'économie.*"
   ]
  },
  {
   "cell_type": "code",
   "execution_count": 2,
   "metadata": {},
   "outputs": [
    {
     "data": {
      "image/png": "[encoded data removed]",
      "text/plain": [
       "plot without title"
      ]
     },
     "metadata": {
      "image/png": {
       "height": 420,
       "width": 420
      },
      "text/plain": {
       "height": 420,
       "width": 420
      }
     },
     "output_type": "display_data"
    }
   ],
   "source": [
    "x1A <- function(p) crossprod(p, ωA)/(2*p[1])      # demande de A en bien 1\n",
    "x2A <- function(p) crossprod(p, ωA)/(2*p[2])      # demande de A en bien 2\n",
    "x1B <- function(p) 2*crossprod(p, ωB)/(3*p[1])    # demande de B en bien 1\n",
    "x2B <- function(p) crossprod(p, ωB)/(3*p[2])      # demande de B en bien 2\n",
    "r <- (3*ωA[2] + 4*ωB[2])/(3*ωA[1] + 2*ωB[1])      # rapport des prix à l'équilibre\n",
    "\n",
    "I <- ωA                                   # dotations initiales\n",
    "E <- c(x1A(c(r, 1)), x2A(c(r, 1)))        # équilibre concurrentiel\n",
    "optima <- function(x) 2*x*ω2/(ω1 + x)     # courbe des optima\n",
    "\n",
    "plot(x = x1, y = x1, xlim = c(0, ω1), ylim = c(0, ω2),\n",
    "     type = \"n\", asp=NA, xlab=\"Bien 1\", ylab=\"Bien 2\", xaxs=\"i\", yaxs=\"i\")\n",
    "points(I[1], I[2], pch = 3)                                                     # allocation initiale I\n",
    "    text(I[1]+.05*ω1, I[2]+.05*ω2, labels = \"I\", cex = 1.3, font = 3)\n",
    "lines(x1, indiffA(UA(I[1], I[2])), col = \"dodgerblue\", ylim = c(0, ω2))         # courbe d'indifférence de A\n",
    "lines(x1, rev(ω2 - indiffB(UB(ω1 - I[1], ω2 - I[2]))), col = \"darkorange\", ylim = c(0, ω2)) # c.i. de B\n",
    "lines(x1, optima(x1), col = \"purple\", lwd = 1)                                  # courbe des optima\n",
    "lines(x1, r*ωA[1] + ωA[2] - r*x1, lty = 2)                                      # contrainte de budget à l'équilibre\n",
    "points(E[1], E[2], pch=3)                                                       # équilibre concurrentiel E\n",
    "    text(E[1]+.05*ω1, E[2]+.05*ω2, labels = \"E\", cex = 1.3, font = 3)"
   ]
  },
  {
   "cell_type": "code",
   "execution_count": null,
   "metadata": {},
   "outputs": [],
   "source": []
  }
 ],
 "metadata": {
  "kernelspec": {
   "display_name": "Python 3 (ipykernel)",
   "language": "python",
   "name": "python3"
  },
  "language_info": {
   "codemirror_mode": {
    "name": "ipython",
    "version": 3
   },
   "file_extension": ".py",
   "mimetype": "text/x-python",
   "name": "python",
   "nbconvert_exporter": "python",
   "pygments_lexer": "ipython3",
   "version": "3.9.7"
  }
 },
 "nbformat": 4,
 "nbformat_minor": 4
}
